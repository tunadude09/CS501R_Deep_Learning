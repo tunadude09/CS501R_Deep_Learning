{
 "cells": [
  {
   "cell_type": "code",
   "execution_count": 1,
   "metadata": {
    "collapsed": true
   },
   "outputs": [],
   "source": [
    "import tensorflow as tf\n",
    "import numpy as np\n",
    "import matplotlib.pyplot as plt\n",
    "import pandas as pd\n",
    "\n",
    "from tensorflow.examples.tutorials.mnist import input_data\n",
    "%matplotlib inline"
   ]
  },
  {
   "cell_type": "code",
   "execution_count": null,
   "metadata": {
    "collapsed": true
   },
   "outputs": [],
   "source": []
  },
  {
   "cell_type": "code",
   "execution_count": null,
   "metadata": {
    "collapsed": true
   },
   "outputs": [],
   "source": []
  },
  {
   "cell_type": "code",
   "execution_count": null,
   "metadata": {
    "collapsed": true
   },
   "outputs": [],
   "source": []
  },
  {
   "cell_type": "code",
   "execution_count": 23,
   "metadata": {
    "collapsed": false,
    "scrolled": true
   },
   "outputs": [
    {
     "name": "stdout",
     "output_type": "stream",
     "text": [
      "Extracting MNIST_data/train-images-idx3-ubyte.gz\n",
      "Extracting MNIST_data/train-labels-idx1-ubyte.gz\n",
      "Extracting MNIST_data/t10k-images-idx3-ubyte.gz\n",
      "Extracting MNIST_data/t10k-labels-idx1-ubyte.gz\n",
      "test accuracy 0.0974\n",
      "test accuracy 0.0498\n",
      "test accuracy 0.0939\n",
      "test accuracy 0.751\n",
      "test accuracy 0.8578\n",
      "test accuracy 0.8591\n"
     ]
    }
   ],
   "source": [
    "\n",
    "\n",
    "#\n",
    "# ==================================================================\n",
    "#\n",
    "\n",
    "def weight_variable(shape):\n",
    "  initial = tf.truncated_normal( shape, stddev=0.1 )\n",
    "  return tf.Variable( initial )\n",
    "\n",
    "def bias_variable(shape):\n",
    "  initial = tf.constant( 0.1, shape=shape )\n",
    "  return tf.Variable(initial)\n",
    "\n",
    "#\n",
    "# ==================================================================\n",
    "#\n",
    "\n",
    "# Declare computation graph\n",
    "\n",
    "y_ = tf.placeholder( tf.float32, shape=[None, 10], name=\"y_\" )\n",
    "x = tf.placeholder( tf.float32, [None, 784], name=\"x\" )\n",
    "lam = tf.placeholder( tf.float32, name=\"lam\")\n",
    "\n",
    "\n",
    "W1 = weight_variable([784, 500])\n",
    "b1 = bias_variable([500])\n",
    "h1 = tf.nn.relu( tf.matmul( x, W1 ) + b1 )\n",
    "\n",
    "\n",
    "\n",
    "\n",
    "W2 = weight_variable([500, 500])\n",
    "b2 = bias_variable([500])\n",
    "h2 = tf.nn.relu( tf.matmul( h1, W2 ) + b2 )\n",
    "\n",
    "\n",
    "\n",
    "\n",
    "\n",
    "W3 = weight_variable([500, 1000])\n",
    "b3 = bias_variable([1000])\n",
    "h3 = tf.nn.relu( tf.matmul( h2, W3 ) + b3 )\n",
    "\n",
    "\n",
    "\n",
    "\n",
    "W4 = weight_variable([1000, 10])\n",
    "b4 = bias_variable([10])\n",
    "y_hat = tf.nn.softmax(tf.matmul(h3, W4) + b4)\n",
    "\n",
    "cross_entropy = tf.reduce_mean(-tf.reduce_sum(y_ * tf.log(y_hat), reduction_indices=[1]))\n",
    "\n",
    "\n",
    "#  add l1 regularization\n",
    "l1 = 0.0\n",
    "l1 += tf.reduce_sum(tf.abs(W1))\n",
    "l1 += tf.reduce_sum(tf.abs(b1))\n",
    "l1 += tf.reduce_sum(tf.abs(W2))\n",
    "l1 += tf.reduce_sum(tf.abs(b2))\n",
    "l1 += tf.reduce_sum(tf.abs(W3))\n",
    "l1 += tf.reduce_sum(tf.abs(b3))\n",
    "l1 += tf.reduce_sum(tf.abs(W4))\n",
    "l1 += tf.reduce_sum(tf.abs(b4))\n",
    "l1 *= lam\n",
    "cross_ent_l1 = cross_entropy + l1\n",
    "\n",
    "\n",
    "xent_summary = tf.scalar_summary( 'xent', cross_ent_l1 )\n",
    "\n",
    "\n",
    "correct_prediction = tf.equal(tf.argmax(y_hat,1), tf.argmax(y_,1))\n",
    "accuracy = tf.reduce_mean(tf.cast(correct_prediction, tf.float32))\n",
    "acc_summary = tf.scalar_summary( 'accuracy', accuracy )\n",
    "\n",
    "train_step = tf.train.AdamOptimizer(1e-4).minimize(cross_ent_l1)\n",
    "\n",
    "#\n",
    "# ==================================================================\n",
    "#\n",
    "\n",
    "sess = tf.Session()\n",
    "sess.run( tf.initialize_all_variables() )\n",
    "\n",
    "\n",
    "\n",
    "\n",
    "\n",
    "\n",
    "\n",
    "#\n",
    "# ==================================================================\n",
    "#\n",
    "\n",
    "# NOTE: we're using a single, fixed batch of the first 1000 images\n",
    "mnist = input_data.read_data_sets( \"MNIST_data/\", one_hot=True )\n",
    "\n",
    "images = mnist.train.images[ 0:1000, : ]\n",
    "labels = mnist.train.labels[ 0:1000, : ]\n",
    "lams = [1.0, 0.1, 0.05, 0.01, 0.001, 0.0]\n",
    "# lams = [0.1]\n",
    "\n",
    "\n",
    "test_accuracies = []\n",
    "training_accuracies = []\n",
    "\n",
    "for i in range(len(lams)):\n",
    "        \n",
    "        sess.run( tf.initialize_all_variables() )\n",
    "    \n",
    "        lam_i = lams[i]\n",
    "        \n",
    "        \n",
    "        acc = 0.0\n",
    "        for i in range( 500 ):\n",
    "          _, acc = sess.run( [ train_step, accuracy ], feed_dict={ x: images, y_: labels,\n",
    "                                                                 lam: lam_i} )\n",
    "#           print( \"step %d, training accuracy %g\" % (i, acc) )\n",
    "        training_accuracies.append(acc)\n",
    "\n",
    "        #  if i%10==0:\n",
    "        #      tmp = sess.run( accuracy, feed_dict={ x: mnist.test.images, y_: mnist.test.labels } )\n",
    "        #      print( \"          test accuracy %g\" % tmp )\n",
    "\n",
    "        #\n",
    "        # ==================================================================\n",
    "        #\n",
    "\n",
    "        final_acc = sess.run( accuracy, feed_dict={ x: mnist.test.images, y_: mnist.test.labels,\n",
    "                                                  lam : lam_i} )\n",
    "        print( \"test accuracy %g\" % final_acc )\n",
    "        test_accuracies.append(final_acc)"
   ]
  },
  {
   "cell_type": "code",
   "execution_count": null,
   "metadata": {
    "collapsed": true
   },
   "outputs": [],
   "source": []
  },
  {
   "cell_type": "code",
   "execution_count": null,
   "metadata": {
    "collapsed": true
   },
   "outputs": [],
   "source": []
  },
  {
   "cell_type": "markdown",
   "metadata": {},
   "source": [
    "### Baseline Acc = 0.8411"
   ]
  },
  {
   "cell_type": "code",
   "execution_count": 24,
   "metadata": {
    "collapsed": false
   },
   "outputs": [
    {
     "data": {
      "text/plain": [
       "{'baseline': [0.84, 0.84, 0.84, 0.84, 0.84, 0.84],\n",
       " 'lam': [1.0, 0.1, 0.05, 0.01, 0.001, 0.0],\n",
       " 'test': [0.097399995,\n",
       "  0.049800001,\n",
       "  0.093899995,\n",
       "  0.75099993,\n",
       "  0.85780013,\n",
       "  0.8591001],\n",
       " 'train': [0.089000002,\n",
       "  0.053999998,\n",
       "  0.10600001,\n",
       "  0.86199999,\n",
       "  1.0000001,\n",
       "  1.0000001]}"
      ]
     },
     "execution_count": 24,
     "metadata": {},
     "output_type": "execute_result"
    }
   ],
   "source": [
    "{\"lam\": lams, \"test\": test_accuracies, \"train\": training_accuracies, \n",
    " \"baseline\": [0.84] * len(lams)}"
   ]
  },
  {
   "cell_type": "code",
   "execution_count": 25,
   "metadata": {
    "collapsed": false
   },
   "outputs": [
    {
     "data": {
      "text/plain": [
       "<matplotlib.text.Text at 0x7fe9c42e8860>"
      ]
     },
     "execution_count": 25,
     "metadata": {},
     "output_type": "execute_result"
    },
    {
     "data": {
      "image/png": "[encoded data removed]",
      "text/plain": [
       "<matplotlib.figure.Figure at 0x7fe9bebb13c8>"
      ]
     },
     "metadata": {},
     "output_type": "display_data"
    }
   ],
   "source": [
    "pd.DataFrame({\"lam\": lams, \"test\": test_accuracies, \"train\": training_accuracies,\n",
    "             \"baseline\": [0.84] * len(lams)})\\\n",
    "                .plot(x=\"lam\", y=[\"test\",\"train\", \"baseline\"], figsize=(20,10))\n",
    "plt.xlabel(\"Lambda\")\n",
    "plt.ylabel(\"Classification Accuracy\")"
   ]
  },
  {
   "cell_type": "code",
   "execution_count": null,
   "metadata": {
    "collapsed": true
   },
   "outputs": [],
   "source": []
  },
  {
   "cell_type": "code",
   "execution_count": null,
   "metadata": {
    "collapsed": true
   },
   "outputs": [],
   "source": []
  },
  {
   "cell_type": "code",
   "execution_count": null,
   "metadata": {
    "collapsed": true
   },
   "outputs": [],
   "source": []
  },
  {
   "cell_type": "code",
   "execution_count": null,
   "metadata": {
    "collapsed": true
   },
   "outputs": [],
   "source": []
  },
  {
   "cell_type": "code",
   "execution_count": null,
   "metadata": {
    "collapsed": true
   },
   "outputs": [],
   "source": []
  },
  {
   "cell_type": "code",
   "execution_count": null,
   "metadata": {
    "collapsed": true
   },
   "outputs": [],
   "source": []
  }
 ],
 "metadata": {
  "kernelspec": {
   "display_name": "Python 3",
   "language": "python",
   "name": "python3"
  },
  "language_info": {
   "codemirror_mode": {
    "name": "ipython",
    "version": 3
   },
   "file_extension": ".py",
   "mimetype": "text/x-python",
   "name": "python",
   "nbconvert_exporter": "python",
   "pygments_lexer": "ipython3",
   "version": "3.5.1"
  }
 },
 "nbformat": 4,
 "nbformat_minor": 0
}
