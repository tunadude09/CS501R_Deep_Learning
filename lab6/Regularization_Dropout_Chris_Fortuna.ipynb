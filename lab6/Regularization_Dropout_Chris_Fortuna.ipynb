{
 "cells": [
  {
   "cell_type": "code",
   "execution_count": 1,
   "metadata": {
    "collapsed": true
   },
   "outputs": [],
   "source": [
    "import tensorflow as tf\n",
    "import numpy as np\n",
    "import matplotlib.pyplot as plt\n",
    "import pandas as pd\n",
    "\n",
    "from tensorflow.examples.tutorials.mnist import input_data\n",
    "%matplotlib inline"
   ]
  },
  {
   "cell_type": "code",
   "execution_count": null,
   "metadata": {
    "collapsed": true
   },
   "outputs": [],
   "source": []
  },
  {
   "cell_type": "code",
   "execution_count": 28,
   "metadata": {
    "collapsed": false
   },
   "outputs": [
    {
     "name": "stdout",
     "output_type": "stream",
     "text": [
      "Extracting MNIST_data/train-images-idx3-ubyte.gz\n",
      "Extracting MNIST_data/train-labels-idx1-ubyte.gz\n",
      "Extracting MNIST_data/t10k-images-idx3-ubyte.gz\n",
      "Extracting MNIST_data/t10k-labels-idx1-ubyte.gz\n"
     ]
    }
   ],
   "source": [
    "\n",
    "\n",
    "#\n",
    "# ==================================================================\n",
    "#\n",
    "\n",
    "def weight_variable(shape):\n",
    "  initial = tf.truncated_normal( shape, stddev=0.1 )\n",
    "  return tf.Variable( initial )\n",
    "\n",
    "def bias_variable(shape):\n",
    "  initial = tf.constant( 0.1, shape=shape )\n",
    "  return tf.Variable(initial)\n",
    "\n",
    "#\n",
    "# ==================================================================\n",
    "#\n",
    "\n",
    "# Declare computation graph\n",
    "\n",
    "y_ = tf.placeholder( tf.float32, shape=[None, 10], name=\"y_\" )\n",
    "x = tf.placeholder( tf.float32, [None, 784], name=\"x\" )\n",
    "p = tf.placeholder( tf.float32, name=\"p\")\n",
    "test_run = tf.placeholder( tf.bool, name=\"test_run\")\n",
    "\n",
    "\n",
    "W1 = weight_variable([784, 500])\n",
    "b1 = bias_variable([500])\n",
    "h1 = tf.nn.relu( tf.matmul( x, W1 ) + b1 )\n",
    "\n",
    "\n",
    "\n",
    "#  dropout 1\n",
    "h1 = tf.cond(test_run, lambda: tf.mul(h1, p),\n",
    "             lambda: tf.mul(tf.to_float(tf.less(tf.random_uniform(tf.shape(h1)), p)), h1))\n",
    "\n",
    "\n",
    "\n",
    "\n",
    "W2 = weight_variable([500, 500])\n",
    "b2 = bias_variable([500])\n",
    "h2 = tf.nn.relu( tf.matmul( h1, W2 ) + b2 )\n",
    "\n",
    "\n",
    "\n",
    "#  dropout 2\n",
    "h2 = tf.cond(test_run, lambda: tf.mul(h2, p),\n",
    "             lambda: tf.mul(tf.to_float(tf.less(tf.random_uniform(tf.shape(h2)), p)), h2))\n",
    "\n",
    "\n",
    "\n",
    "\n",
    "W3 = weight_variable([500, 1000])\n",
    "b3 = bias_variable([1000])\n",
    "h3 = tf.nn.relu( tf.matmul( h2, W3 ) + b3 )\n",
    "\n",
    "\n",
    "\n",
    "#  dropout 3\n",
    "h3 = tf.cond(test_run, lambda: tf.mul(h3, p),\n",
    "             lambda: tf.mul(tf.to_float(tf.less(tf.random_uniform(tf.shape(h3)), p)), h3))\n",
    "\n",
    "\n",
    "\n",
    "\n",
    "W4 = weight_variable([1000, 10])\n",
    "b4 = bias_variable([10])\n",
    "y_hat = tf.nn.softmax(tf.matmul(h3, W4) + b4)\n",
    "\n",
    "cross_entropy = tf.reduce_mean(-tf.reduce_sum(y_ * tf.log(y_hat), reduction_indices=[1]))\n",
    "xent_summary = tf.scalar_summary( 'xent', cross_entropy )\n",
    "\n",
    "correct_prediction = tf.equal(tf.argmax(y_hat,1), tf.argmax(y_,1))\n",
    "accuracy = tf.reduce_mean(tf.cast(correct_prediction, tf.float32))\n",
    "acc_summary = tf.scalar_summary( 'accuracy', accuracy )\n",
    "\n",
    "train_step = tf.train.AdamOptimizer(1e-4).minimize(cross_entropy)\n",
    "\n",
    "#\n",
    "# ==================================================================\n",
    "#\n",
    "\n",
    "sess = tf.Session()\n",
    "sess.run( tf.initialize_all_variables() )\n",
    "\n",
    "\n",
    "\n",
    "\n",
    "\n",
    "\n",
    "\n",
    "#\n",
    "# ==================================================================\n",
    "#\n",
    "\n",
    "# NOTE: we're using a single, fixed batch of the first 1000 images\n",
    "mnist = input_data.read_data_sets( \"MNIST_data/\", one_hot=True )\n",
    "\n",
    "images = mnist.train.images[ 0:1000, : ]\n",
    "labels = mnist.train.labels[ 0:1000, : ]\n",
    "drop_probs = [0.0, 0.1, 0.25, 0.5, 0.75, 1.0]\n",
    "\n",
    "\n",
    "test_accuracies = []\n",
    "training_accuracies = []\n",
    "\n",
    "for i in range(len(drop_probs)):\n",
    "        \n",
    "        sess.run( tf.initialize_all_variables() )\n",
    "    \n",
    "        drop_prob = drop_probs[i]\n",
    "        \n",
    "        \n",
    "        acc = 0.0\n",
    "        for i in range( 150 ):\n",
    "          _, acc = sess.run( [ train_step, accuracy ], feed_dict={ x: images, y_: labels, p: drop_prob,\n",
    "                                                                 test_run: False} )\n",
    "        #   print( \"step %d, training accuracy %g\" % (i, acc) )\n",
    "        training_accuracies.append(acc)\n",
    "\n",
    "        #  if i%10==0:\n",
    "        #      tmp = sess.run( accuracy, feed_dict={ x: mnist.test.images, y_: mnist.test.labels } )\n",
    "        #      print( \"          test accuracy %g\" % tmp )\n",
    "\n",
    "        #\n",
    "        # ==================================================================\n",
    "        #\n",
    "\n",
    "        final_acc = sess.run( accuracy, feed_dict={ x: mnist.test.images, y_: mnist.test.labels, p: drop_prob,\n",
    "                                                  test_run: True} )\n",
    "#         print( \"test accuracy %g\" % final_acc )\n",
    "        test_accuracies.append(final_acc)"
   ]
  },
  {
   "cell_type": "markdown",
   "metadata": {},
   "source": [
    "### Baseline Acc = 0.8411"
   ]
  },
  {
   "cell_type": "code",
   "execution_count": 29,
   "metadata": {
    "collapsed": false
   },
   "outputs": [
    {
     "data": {
      "text/plain": [
       "{'baseline': [0.84, 0.84, 0.84, 0.84, 0.84, 0.84],\n",
       " 'drop': [0.0, 0.1, 0.25, 0.5, 0.75, 1.0],\n",
       " 'test': [0.101, 0.14639999, 0.5625999, 0.81170011, 0.86900008, 0.84530008],\n",
       " 'train': [0.11499999,\n",
       "  0.12100001,\n",
       "  0.25299999,\n",
       "  0.67899996,\n",
       "  0.88000005,\n",
       "  1.0000001]}"
      ]
     },
     "execution_count": 29,
     "metadata": {},
     "output_type": "execute_result"
    }
   ],
   "source": [
    "{\"drop\": drop_probs, \"test\": test_accuracies, \"train\": training_accuracies, \n",
    " \"baseline\": [0.84] * len(drop_probs)}"
   ]
  },
  {
   "cell_type": "code",
   "execution_count": 30,
   "metadata": {
    "collapsed": false
   },
   "outputs": [
    {
     "data": {
      "text/plain": [
       "<matplotlib.text.Text at 0x7fb4846c4c18>"
      ]
     },
     "execution_count": 30,
     "metadata": {},
     "output_type": "execute_result"
    },
    {
     "data": {
      "image/png": "[encoded data removed]",
      "text/plain": [
       "<matplotlib.figure.Figure at 0x7fb4846b2e48>"
      ]
     },
     "metadata": {},
     "output_type": "display_data"
    }
   ],
   "source": [
    "pd.DataFrame({\"drop\": drop_probs, \"test\": test_accuracies, \"train\": training_accuracies,\n",
    "             \"baseline\": [0.84] * len(drop_probs)})\\\n",
    "                .plot(x=\"drop\", y=[\"test\",\"train\", \"baseline\"], figsize=(20,10))\n",
    "plt.xlabel(\"Keep Probability\")\n",
    "plt.ylabel(\"Classification Accuracy\")"
   ]
  },
  {
   "cell_type": "code",
   "execution_count": null,
   "metadata": {
    "collapsed": true
   },
   "outputs": [],
   "source": []
  },
  {
   "cell_type": "code",
   "execution_count": null,
   "metadata": {
    "collapsed": true
   },
   "outputs": [],
   "source": []
  }
 ],
 "metadata": {
  "kernelspec": {
   "display_name": "Python 3",
   "language": "python",
   "name": "python3"
  },
  "language_info": {
   "codemirror_mode": {
    "name": "ipython",
    "version": 3
   },
   "file_extension": ".py",
   "mimetype": "text/x-python",
   "name": "python",
   "nbconvert_exporter": "python",
   "pygments_lexer": "ipython3",
   "version": "3.5.1"
  }
 },
 "nbformat": 4,
 "nbformat_minor": 0
}
