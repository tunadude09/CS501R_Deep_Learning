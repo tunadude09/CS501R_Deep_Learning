{
 "cells": [
  {
   "cell_type": "code",
   "execution_count": 1,
   "metadata": {
    "collapsed": false
   },
   "outputs": [],
   "source": [
    "import numpy as np\n",
    "import pandas as pd\n",
    "import matplotlib.pyplot as plt\n",
    "\n",
    "%matplotlib inline"
   ]
  },
  {
   "cell_type": "markdown",
   "metadata": {},
   "source": [
    "# Import"
   ]
  },
  {
   "cell_type": "code",
   "execution_count": 2,
   "metadata": {
    "collapsed": false
   },
   "outputs": [],
   "source": [
    "data = pd.read_csv( 'Fisher.csv' )\n",
    "m = data.as_matrix()\n",
    "labels = m[:,0]\n",
    "labels[ labels==2 ] = 1  # squash class 2 into class 1\n",
    "labels = np.atleast_2d( labels ).T\n",
    "features = m[:,1:5]"
   ]
  },
  {
   "cell_type": "code",
   "execution_count": 3,
   "metadata": {
    "collapsed": false
   },
   "outputs": [
    {
     "data": {
      "text/plain": [
       "(150, 1)"
      ]
     },
     "execution_count": 3,
     "metadata": {},
     "output_type": "execute_result"
    }
   ],
   "source": [
    "labels.shape"
   ]
  },
  {
   "cell_type": "code",
   "execution_count": 4,
   "metadata": {
    "collapsed": false
   },
   "outputs": [
    {
     "data": {
      "text/plain": [
       "(150, 4)"
      ]
     },
     "execution_count": 4,
     "metadata": {},
     "output_type": "execute_result"
    }
   ],
   "source": [
    "features.shape"
   ]
  },
  {
   "cell_type": "code",
   "execution_count": 2,
   "metadata": {
    "collapsed": false
   },
   "outputs": [],
   "source": [
    "#  run after\n",
    "\n",
    "def unpickle( file ):\n",
    "    import cPickle\n",
    "    fo = open(file, 'rb')\n",
    "    dict = cPickle.load(fo)\n",
    "    fo.close()\n",
    "    return dict\n",
    " \n",
    "data = unpickle( 'cifar-10-batches-py/data_batch_1' )\n",
    " \n",
    "features = data['data']\n",
    "labels = data['labels']\n",
    "labels = np.atleast_2d( labels ).T\n",
    " \n",
    "# squash classes 0-4 into class 0, and squash classes 5-9 into class 1\n",
    "labels[ labels < 5 ] = 0\n",
    "labels[ labels >= 5 ] = 1"
   ]
  },
  {
   "cell_type": "markdown",
   "metadata": {},
   "source": [
    "# Perceptron Model Def"
   ]
  },
  {
   "cell_type": "code",
   "execution_count": 12,
   "metadata": {
    "collapsed": false
   },
   "outputs": [],
   "source": [
    "import pdb\n",
    "\n",
    "class perceptron:\n",
    "    def __init__(self):\n",
    "        pass\n",
    "    \n",
    "    def fit(self, x, y, stepsizes):\n",
    "#         pdb.set_trace()\n",
    "        x = np.asmatrix(x)\n",
    "        y = np.atleast_2d(y)\n",
    "        #  init with small random wieghts and add bias nodes\n",
    "        self.w = np.atleast_2d(np.random.rand(x.shape[1] + 1) - 0.5 / 100000.0)\n",
    "        x = np.hstack((x, np.atleast_2d(np.ones(x.shape[0])).T))\n",
    "        \n",
    "        \n",
    "        accuracies_for_all_stepsizes = []\n",
    "        l2_norms_for_all_stepsizes = []\n",
    "        \n",
    "        #  for each stepsize\n",
    "        for stepsize in stepsizes:\n",
    "        \n",
    "            accuracies = []\n",
    "            l2_norms = []\n",
    "\n",
    "        \n",
    "            #  number of epochs to run\n",
    "            for epoch_num in range(100):\n",
    "#                 print(epoch_num)\n",
    "\n",
    "                #  train on every instance in x\n",
    "                for i in range(x.shape[0]):\n",
    "                    predicted = np.dot(self.w, x[i].T)\n",
    "                    # apply heavyside step function\n",
    "                    predicted = self.heavyside_step_filter(predicted)\n",
    "                    actual = y[i]\n",
    "\n",
    "                    #  update every feature weight\n",
    "                    for j in range(self.w.shape[1]):\n",
    "                        self.w[0,j] = self.w[0,j] + (stepsize * (actual - predicted) * x[i,j])\n",
    "\n",
    "                accuracies.append(self.accuracy_score(x, y))\n",
    "                l2_norms.append(np.log(self.l2_norm()))\n",
    "            accuracies_for_all_stepsizes.append(accuracies)\n",
    "            l2_norms_for_all_stepsizes.append(l2_norms)\n",
    "            \n",
    "        self.plot_metrics(accuracies_for_all_stepsizes, l2_norms_for_all_stepsizes, \n",
    "                          stepsizes)\n",
    "        \n",
    "    def heavyside_step_filter(self, x):\n",
    "        return 0.5 * (np.sign(x) + 1)\n",
    "        \n",
    "        \n",
    "    def accuracy_score(self, x, y):        \n",
    "#         print (list(zip(y, self.heavyside_step_filter(x * self.w.T))))\n",
    "        num_incorrect = abs(y - self.heavyside_step_filter(x * self.w.T)).sum()\n",
    "        return (y.shape[0] - num_incorrect) / y.shape[0]\n",
    "    \n",
    "    def l2_norm(self):\n",
    "        return np.sqrt(np.dot(self.w,self.w.T))[0][0]\n",
    "\n",
    "    def plot_metrics(self, accuracies_for_all_stepsizes, l2_norms_for_all_stepsizes, \n",
    "                          stepsizes):\n",
    "        fig, axes = plt.subplots(1,2)\n",
    "        \n",
    "        for index, stepsize in enumerate(stepsizes):\n",
    "            axes[0].plot(accuracies_for_all_stepsizes[index], label=str(stepsize))\n",
    "        axes[0].legend(loc='lower right')\n",
    "        axes[0].set_title(\"Accuracy\")\n",
    "        axes[0].set_xlim(0,100)\n",
    "        axes[0].set_ylim(0,1.1)\n",
    "#         print(l2_norms)\n",
    "#         print(len(l2_norms))\n",
    "        for index, stepsize in enumerate(stepsizes):\n",
    "            axes[1].plot(l2_norms_for_all_stepsizes[index], label=str(stepsize))\n",
    "        axes[1].legend(loc='center right')\n",
    "        axes[1].set_title(\"L2 Norm\")\n",
    "        axes[1].set_xlim(0,100)\n",
    "#         axes[1].set_ylim(0,110)\n"
   ]
  },
  {
   "cell_type": "markdown",
   "metadata": {},
   "source": [
    "# Iris Dataset"
   ]
  },
  {
   "cell_type": "code",
   "execution_count": 6,
   "metadata": {
    "collapsed": false
   },
   "outputs": [],
   "source": [
    "clf = perceptron()"
   ]
  },
  {
   "cell_type": "code",
   "execution_count": 11,
   "metadata": {
    "collapsed": false
   },
   "outputs": [
    {
     "data": {
      "image/png": "[encoded data removed]",
      "text/plain": [
       "<matplotlib.figure.Figure at 0x7fbb43107890>"
      ]
     },
     "metadata": {},
     "output_type": "display_data"
    }
   ],
   "source": [
    "clf.fit(features, labels, [0.00001, 0.0001, 1.0])"
   ]
  },
  {
   "cell_type": "code",
   "execution_count": 8,
   "metadata": {
    "collapsed": false
   },
   "outputs": [
    {
     "data": {
      "image/png": "[encoded data removed]",
      "text/plain": [
       "<matplotlib.figure.Figure at 0x7fbb7417e710>"
      ]
     },
     "metadata": {},
     "output_type": "display_data"
    }
   ],
   "source": [
    "clf.fit(features, labels, [1.0, 0.1, 0.01])"
   ]
  },
  {
   "cell_type": "code",
   "execution_count": null,
   "metadata": {
    "collapsed": true
   },
   "outputs": [],
   "source": []
  },
  {
   "cell_type": "markdown",
   "metadata": {
    "collapsed": true
   },
   "source": [
    "# CIFAR-10 Dataset"
   ]
  },
  {
   "cell_type": "code",
   "execution_count": 13,
   "metadata": {
    "collapsed": true
   },
   "outputs": [],
   "source": [
    "clf = perceptron()"
   ]
  },
  {
   "cell_type": "code",
   "execution_count": 14,
   "metadata": {
    "collapsed": false
   },
   "outputs": [
    {
     "data": {
      "image/png": "[encoded data removed]",
      "text/plain": [
       "<matplotlib.figure.Figure at 0x7f371b839910>"
      ]
     },
     "metadata": {},
     "output_type": "display_data"
    }
   ],
   "source": [
    "#  10,000 was running too slowly so I used 100 instead \n",
    "clf.fit(features[:100,:], labels[:100], [0.00001, 0.001])"
   ]
  },
  {
   "cell_type": "code",
   "execution_count": null,
   "metadata": {
    "collapsed": true
   },
   "outputs": [],
   "source": []
  },
  {
   "cell_type": "code",
   "execution_count": null,
   "metadata": {
    "collapsed": true
   },
   "outputs": [],
   "source": []
  },
  {
   "cell_type": "code",
   "execution_count": null,
   "metadata": {
    "collapsed": true
   },
   "outputs": [],
   "source": []
  }
 ],
 "metadata": {
  "kernelspec": {
   "display_name": "Python [py27]",
   "language": "python",
   "name": "Python [py27]"
  },
  "language_info": {
   "codemirror_mode": {
    "name": "ipython",
    "version": 2
   },
   "file_extension": ".py",
   "mimetype": "text/x-python",
   "name": "python",
   "nbconvert_exporter": "python",
   "pygments_lexer": "ipython2",
   "version": "2.7.12"
  }
 },
 "nbformat": 4,
 "nbformat_minor": 0
}
